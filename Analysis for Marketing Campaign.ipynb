{
 "cells": [
  {
   "cell_type": "markdown",
   "metadata": {},
   "source": [
    "## Business understanding\n",
    "\n",
    "Customer personality analysis - dataset was downloaded from:  \n",
    "https://www.kaggle.com/imakash3011/customer-personality-analysis\n",
    "\n",
    "### Dataset description\n",
    "\n",
    " -- Taken directly from the link above -- \n",
    "\n",
    "Customer Personality Analysis is a detailed analysis of a company’s ideal customers. It helps a business to better understand its customers and makes it easier for them to modify products according to the specific needs, behaviors and concerns of different types of customers.\n",
    "\n",
    "Customer personality analysis helps a business to modify its product based on its target customers from different types of customer segments. For example, instead of spending money to market a new product to every customer in the company’s database, a company can analyze which customer segment is most likely to buy the product and then market the product only on that particular segment.\n",
    "\n",
    "### Questions we will try to solve\n",
    "\n",
    "1. What is the \"average\" customer that we are the most likely to attract in each sales campaign ?  \n",
    "2. What is the preferred sale channel per product ? \n",
    "3. What is the profile of those customers that prefer online or catalog shopping / shopping directly in stores ?  \n",
    "4. What are the consumer behaviors/characteristics with the highest importance when predicting customer's yearly income ? "
   ]
  },
  {
   "cell_type": "markdown",
   "metadata": {},
   "source": [
    "## Data understanding\n",
    "\n",
    "In this section, we get to know the data we are handling. We can see which variables are quantitative and which ones are categorical. In the same way, we explore if there are any missing values."
   ]
  },
  {
   "cell_type": "code",
   "execution_count": 1,
   "metadata": {},
   "outputs": [
    {
     "data": {
      "text/html": [
       "<div>\n",
       "<style scoped>\n",
       "    .dataframe tbody tr th:only-of-type {\n",
       "        vertical-align: middle;\n",
       "    }\n",
       "\n",
       "    .dataframe tbody tr th {\n",
       "        vertical-align: top;\n",
       "    }\n",
       "\n",
       "    .dataframe thead th {\n",
       "        text-align: right;\n",
       "    }\n",
       "</style>\n",
       "<table border=\"1\" class=\"dataframe\">\n",
       "  <thead>\n",
       "    <tr style=\"text-align: right;\">\n",
       "      <th></th>\n",
       "      <th>ID</th>\n",
       "      <th>Year_Birth</th>\n",
       "      <th>Education</th>\n",
       "      <th>Marital_Status</th>\n",
       "      <th>Income</th>\n",
       "      <th>Kidhome</th>\n",
       "      <th>Teenhome</th>\n",
       "      <th>Dt_Customer</th>\n",
       "      <th>Recency</th>\n",
       "      <th>MntWines</th>\n",
       "      <th>...</th>\n",
       "      <th>NumWebVisitsMonth</th>\n",
       "      <th>AcceptedCmp3</th>\n",
       "      <th>AcceptedCmp4</th>\n",
       "      <th>AcceptedCmp5</th>\n",
       "      <th>AcceptedCmp1</th>\n",
       "      <th>AcceptedCmp2</th>\n",
       "      <th>Complain</th>\n",
       "      <th>Z_CostContact</th>\n",
       "      <th>Z_Revenue</th>\n",
       "      <th>Response</th>\n",
       "    </tr>\n",
       "  </thead>\n",
       "  <tbody>\n",
       "    <tr>\n",
       "      <th>0</th>\n",
       "      <td>5524</td>\n",
       "      <td>1957</td>\n",
       "      <td>Graduation</td>\n",
       "      <td>Single</td>\n",
       "      <td>58138.0</td>\n",
       "      <td>0</td>\n",
       "      <td>0</td>\n",
       "      <td>04-09-2012</td>\n",
       "      <td>58</td>\n",
       "      <td>635</td>\n",
       "      <td>...</td>\n",
       "      <td>7</td>\n",
       "      <td>0</td>\n",
       "      <td>0</td>\n",
       "      <td>0</td>\n",
       "      <td>0</td>\n",
       "      <td>0</td>\n",
       "      <td>0</td>\n",
       "      <td>3</td>\n",
       "      <td>11</td>\n",
       "      <td>1</td>\n",
       "    </tr>\n",
       "    <tr>\n",
       "      <th>1</th>\n",
       "      <td>2174</td>\n",
       "      <td>1954</td>\n",
       "      <td>Graduation</td>\n",
       "      <td>Single</td>\n",
       "      <td>46344.0</td>\n",
       "      <td>1</td>\n",
       "      <td>1</td>\n",
       "      <td>08-03-2014</td>\n",
       "      <td>38</td>\n",
       "      <td>11</td>\n",
       "      <td>...</td>\n",
       "      <td>5</td>\n",
       "      <td>0</td>\n",
       "      <td>0</td>\n",
       "      <td>0</td>\n",
       "      <td>0</td>\n",
       "      <td>0</td>\n",
       "      <td>0</td>\n",
       "      <td>3</td>\n",
       "      <td>11</td>\n",
       "      <td>0</td>\n",
       "    </tr>\n",
       "    <tr>\n",
       "      <th>2</th>\n",
       "      <td>4141</td>\n",
       "      <td>1965</td>\n",
       "      <td>Graduation</td>\n",
       "      <td>Together</td>\n",
       "      <td>71613.0</td>\n",
       "      <td>0</td>\n",
       "      <td>0</td>\n",
       "      <td>21-08-2013</td>\n",
       "      <td>26</td>\n",
       "      <td>426</td>\n",
       "      <td>...</td>\n",
       "      <td>4</td>\n",
       "      <td>0</td>\n",
       "      <td>0</td>\n",
       "      <td>0</td>\n",
       "      <td>0</td>\n",
       "      <td>0</td>\n",
       "      <td>0</td>\n",
       "      <td>3</td>\n",
       "      <td>11</td>\n",
       "      <td>0</td>\n",
       "    </tr>\n",
       "    <tr>\n",
       "      <th>3</th>\n",
       "      <td>6182</td>\n",
       "      <td>1984</td>\n",
       "      <td>Graduation</td>\n",
       "      <td>Together</td>\n",
       "      <td>26646.0</td>\n",
       "      <td>1</td>\n",
       "      <td>0</td>\n",
       "      <td>10-02-2014</td>\n",
       "      <td>26</td>\n",
       "      <td>11</td>\n",
       "      <td>...</td>\n",
       "      <td>6</td>\n",
       "      <td>0</td>\n",
       "      <td>0</td>\n",
       "      <td>0</td>\n",
       "      <td>0</td>\n",
       "      <td>0</td>\n",
       "      <td>0</td>\n",
       "      <td>3</td>\n",
       "      <td>11</td>\n",
       "      <td>0</td>\n",
       "    </tr>\n",
       "    <tr>\n",
       "      <th>4</th>\n",
       "      <td>5324</td>\n",
       "      <td>1981</td>\n",
       "      <td>PhD</td>\n",
       "      <td>Married</td>\n",
       "      <td>58293.0</td>\n",
       "      <td>1</td>\n",
       "      <td>0</td>\n",
       "      <td>19-01-2014</td>\n",
       "      <td>94</td>\n",
       "      <td>173</td>\n",
       "      <td>...</td>\n",
       "      <td>5</td>\n",
       "      <td>0</td>\n",
       "      <td>0</td>\n",
       "      <td>0</td>\n",
       "      <td>0</td>\n",
       "      <td>0</td>\n",
       "      <td>0</td>\n",
       "      <td>3</td>\n",
       "      <td>11</td>\n",
       "      <td>0</td>\n",
       "    </tr>\n",
       "  </tbody>\n",
       "</table>\n",
       "<p>5 rows × 29 columns</p>\n",
       "</div>"
      ],
      "text/plain": [
       "     ID  Year_Birth   Education Marital_Status   Income  Kidhome  Teenhome  \\\n",
       "0  5524        1957  Graduation         Single  58138.0        0         0   \n",
       "1  2174        1954  Graduation         Single  46344.0        1         1   \n",
       "2  4141        1965  Graduation       Together  71613.0        0         0   \n",
       "3  6182        1984  Graduation       Together  26646.0        1         0   \n",
       "4  5324        1981         PhD        Married  58293.0        1         0   \n",
       "\n",
       "  Dt_Customer  Recency  MntWines  ...  NumWebVisitsMonth  AcceptedCmp3  \\\n",
       "0  04-09-2012       58       635  ...                  7             0   \n",
       "1  08-03-2014       38        11  ...                  5             0   \n",
       "2  21-08-2013       26       426  ...                  4             0   \n",
       "3  10-02-2014       26        11  ...                  6             0   \n",
       "4  19-01-2014       94       173  ...                  5             0   \n",
       "\n",
       "   AcceptedCmp4  AcceptedCmp5  AcceptedCmp1  AcceptedCmp2  Complain  \\\n",
       "0             0             0             0             0         0   \n",
       "1             0             0             0             0         0   \n",
       "2             0             0             0             0         0   \n",
       "3             0             0             0             0         0   \n",
       "4             0             0             0             0         0   \n",
       "\n",
       "   Z_CostContact  Z_Revenue  Response  \n",
       "0              3         11         1  \n",
       "1              3         11         0  \n",
       "2              3         11         0  \n",
       "3              3         11         0  \n",
       "4              3         11         0  \n",
       "\n",
       "[5 rows x 29 columns]"
      ]
     },
     "execution_count": 1,
     "metadata": {},
     "output_type": "execute_result"
    }
   ],
   "source": [
    "import pandas as pd \n",
    "import numpy as np\n",
    "from sklearn.linear_model import LinearRegression\n",
    "from sklearn.model_selection import train_test_split\n",
    "from sklearn.metrics import r2_score\n",
    "\n",
    "# Converting the csv file into a dataframe \n",
    "df = pd.read_csv('marketing_campaign.csv',delimiter='\\t')\n",
    "des_df = pd.read_csv('Column_description.csv',delimiter=':')\n",
    "des_df.set_index('Column', inplace=True)\n",
    "# Getting a glimpse of the data\n",
    "df.head()"
   ]
  },
  {
   "cell_type": "code",
   "execution_count": 2,
   "metadata": {},
   "outputs": [
    {
     "name": "stdout",
     "output_type": "stream",
     "text": [
      "The size of the data set is: \n",
      "(2240, 29)\n"
     ]
    }
   ],
   "source": [
    "print(f\"The size of the data set is: \\n{df.shape}\")"
   ]
  },
  {
   "cell_type": "code",
   "execution_count": 3,
   "metadata": {},
   "outputs": [
    {
     "name": "stdout",
     "output_type": "stream",
     "text": [
      "The number of columns in the description is: 27\n"
     ]
    },
    {
     "data": {
      "text/html": [
       "<div>\n",
       "<style scoped>\n",
       "    .dataframe tbody tr th:only-of-type {\n",
       "        vertical-align: middle;\n",
       "    }\n",
       "\n",
       "    .dataframe tbody tr th {\n",
       "        vertical-align: top;\n",
       "    }\n",
       "\n",
       "    .dataframe thead th {\n",
       "        text-align: right;\n",
       "    }\n",
       "</style>\n",
       "<table border=\"1\" class=\"dataframe\">\n",
       "  <thead>\n",
       "    <tr style=\"text-align: right;\">\n",
       "      <th></th>\n",
       "      <th>Description</th>\n",
       "    </tr>\n",
       "    <tr>\n",
       "      <th>Column</th>\n",
       "      <th></th>\n",
       "    </tr>\n",
       "  </thead>\n",
       "  <tbody>\n",
       "    <tr>\n",
       "      <th>ID</th>\n",
       "      <td>Customer's unique identifier</td>\n",
       "    </tr>\n",
       "    <tr>\n",
       "      <th>Year_Birth</th>\n",
       "      <td>Customer's birth year</td>\n",
       "    </tr>\n",
       "    <tr>\n",
       "      <th>Education</th>\n",
       "      <td>Customer's education level</td>\n",
       "    </tr>\n",
       "    <tr>\n",
       "      <th>Marital_Status</th>\n",
       "      <td>Customer's marital status</td>\n",
       "    </tr>\n",
       "    <tr>\n",
       "      <th>Income</th>\n",
       "      <td>Customer's yearly household income</td>\n",
       "    </tr>\n",
       "    <tr>\n",
       "      <th>Kidhome</th>\n",
       "      <td>Number of children in customer's household</td>\n",
       "    </tr>\n",
       "    <tr>\n",
       "      <th>Teenhome</th>\n",
       "      <td>Number of teenagers in customer's household</td>\n",
       "    </tr>\n",
       "    <tr>\n",
       "      <th>Dt_Customer</th>\n",
       "      <td>Date of customer's enrollment with the company</td>\n",
       "    </tr>\n",
       "    <tr>\n",
       "      <th>Recency</th>\n",
       "      <td>Number of days since customer's last purchase</td>\n",
       "    </tr>\n",
       "    <tr>\n",
       "      <th>Complain</th>\n",
       "      <td>if customer complained in the last 2 years</td>\n",
       "    </tr>\n",
       "    <tr>\n",
       "      <th>MntWines</th>\n",
       "      <td>Amount spent on wine in last 2 years</td>\n",
       "    </tr>\n",
       "    <tr>\n",
       "      <th>MntFruits</th>\n",
       "      <td>Amount spent on fruits in last 2 years</td>\n",
       "    </tr>\n",
       "    <tr>\n",
       "      <th>MntMeatProducts</th>\n",
       "      <td>Amount spent on meat in last 2 years</td>\n",
       "    </tr>\n",
       "    <tr>\n",
       "      <th>MntFishProducts</th>\n",
       "      <td>Amount spent on fish in last 2 years</td>\n",
       "    </tr>\n",
       "    <tr>\n",
       "      <th>MntSweetProducts</th>\n",
       "      <td>Amount spent on sweets in last 2 years</td>\n",
       "    </tr>\n",
       "    <tr>\n",
       "      <th>MntGoldProds</th>\n",
       "      <td>Amount spent on gold in last 2 years</td>\n",
       "    </tr>\n",
       "    <tr>\n",
       "      <th>NumDealsPurchases</th>\n",
       "      <td>Number of purchases made with a discount</td>\n",
       "    </tr>\n",
       "    <tr>\n",
       "      <th>AcceptedCmp1</th>\n",
       "      <td>if customer accepted the offer in the 1st cam...</td>\n",
       "    </tr>\n",
       "    <tr>\n",
       "      <th>AcceptedCmp2</th>\n",
       "      <td>if customer accepted the offer in the 2nd cam...</td>\n",
       "    </tr>\n",
       "    <tr>\n",
       "      <th>AcceptedCmp3</th>\n",
       "      <td>if customer accepted the offer in the 3rd cam...</td>\n",
       "    </tr>\n",
       "    <tr>\n",
       "      <th>AcceptedCmp4</th>\n",
       "      <td>if customer accepted the offer in the 4th cam...</td>\n",
       "    </tr>\n",
       "    <tr>\n",
       "      <th>AcceptedCmp5</th>\n",
       "      <td>if customer accepted the offer in the 5th cam...</td>\n",
       "    </tr>\n",
       "    <tr>\n",
       "      <th>Response</th>\n",
       "      <td>if customer accepted the offer in the last ca...</td>\n",
       "    </tr>\n",
       "    <tr>\n",
       "      <th>NumWebPurchases</th>\n",
       "      <td>Number of purchases made through the company’...</td>\n",
       "    </tr>\n",
       "    <tr>\n",
       "      <th>NumCatalogPurchases</th>\n",
       "      <td>Number of purchases made using a catalogue</td>\n",
       "    </tr>\n",
       "    <tr>\n",
       "      <th>NumStorePurchases</th>\n",
       "      <td>Number of purchases made directly in stores</td>\n",
       "    </tr>\n",
       "    <tr>\n",
       "      <th>NumWebVisitsMonth</th>\n",
       "      <td>Number of visits to company’s web site in the...</td>\n",
       "    </tr>\n",
       "  </tbody>\n",
       "</table>\n",
       "</div>"
      ],
      "text/plain": [
       "                                                           Description\n",
       "Column                                                                \n",
       "ID                                        Customer's unique identifier\n",
       "Year_Birth                                       Customer's birth year\n",
       "Education                                   Customer's education level\n",
       "Marital_Status                               Customer's marital status\n",
       "Income                              Customer's yearly household income\n",
       "Kidhome                     Number of children in customer's household\n",
       "Teenhome                   Number of teenagers in customer's household\n",
       "Dt_Customer             Date of customer's enrollment with the company\n",
       "Recency                  Number of days since customer's last purchase\n",
       "Complain                    if customer complained in the last 2 years\n",
       "MntWines                          Amount spent on wine in last 2 years\n",
       "MntFruits                       Amount spent on fruits in last 2 years\n",
       "MntMeatProducts                   Amount spent on meat in last 2 years\n",
       "MntFishProducts                   Amount spent on fish in last 2 years\n",
       "MntSweetProducts                Amount spent on sweets in last 2 years\n",
       "MntGoldProds                      Amount spent on gold in last 2 years\n",
       "NumDealsPurchases             Number of purchases made with a discount\n",
       "AcceptedCmp1          if customer accepted the offer in the 1st cam...\n",
       "AcceptedCmp2          if customer accepted the offer in the 2nd cam...\n",
       "AcceptedCmp3          if customer accepted the offer in the 3rd cam...\n",
       "AcceptedCmp4          if customer accepted the offer in the 4th cam...\n",
       "AcceptedCmp5          if customer accepted the offer in the 5th cam...\n",
       "Response              if customer accepted the offer in the last ca...\n",
       "NumWebPurchases       Number of purchases made through the company’...\n",
       "NumCatalogPurchases         Number of purchases made using a catalogue\n",
       "NumStorePurchases          Number of purchases made directly in stores\n",
       "NumWebVisitsMonth     Number of visits to company’s web site in the..."
      ]
     },
     "execution_count": 3,
     "metadata": {},
     "output_type": "execute_result"
    }
   ],
   "source": [
    "print(f\"The number of columns in the description is: {des_df.shape[0]}\")\n",
    "des_df.head(30) "
   ]
  },
  {
   "cell_type": "code",
   "execution_count": 4,
   "metadata": {},
   "outputs": [
    {
     "name": "stdout",
     "output_type": "stream",
     "text": [
      "\n",
      "Categorical columns: \n",
      "Index(['Education', 'Marital_Status', 'Dt_Customer'], dtype='object')\n"
     ]
    }
   ],
   "source": [
    "# Understanding data types \n",
    "#print(df.dtypes)\n",
    "# Extracting categorical columns\n",
    "cat_col = df.select_dtypes(include=['object']).columns\n",
    "print(f\"\\nCategorical columns: \\n{cat_col}\")"
   ]
  },
  {
   "cell_type": "code",
   "execution_count": 5,
   "metadata": {},
   "outputs": [
    {
     "name": "stdout",
     "output_type": "stream",
     "text": [
      "ID                      0\n",
      "Year_Birth              0\n",
      "Education               0\n",
      "Marital_Status          0\n",
      "Income                 24\n",
      "Kidhome                 0\n",
      "Teenhome                0\n",
      "Dt_Customer             0\n",
      "Recency                 0\n",
      "MntWines                0\n",
      "MntFruits               0\n",
      "MntMeatProducts         0\n",
      "MntFishProducts         0\n",
      "MntSweetProducts        0\n",
      "MntGoldProds            0\n",
      "NumDealsPurchases       0\n",
      "NumWebPurchases         0\n",
      "NumCatalogPurchases     0\n",
      "NumStorePurchases       0\n",
      "NumWebVisitsMonth       0\n",
      "AcceptedCmp3            0\n",
      "AcceptedCmp4            0\n",
      "AcceptedCmp5            0\n",
      "AcceptedCmp1            0\n",
      "AcceptedCmp2            0\n",
      "Complain                0\n",
      "Z_CostContact           0\n",
      "Z_Revenue               0\n",
      "Response                0\n",
      "dtype: int64\n"
     ]
    }
   ],
   "source": [
    "# Exploring if there are missing values in the dataframe and the columns that contain them\n",
    "print(df.isnull().sum())"
   ]
  },
  {
   "cell_type": "markdown",
   "metadata": {},
   "source": [
    "## Data preparation\n",
    "\n",
    "### Dealing with missing values\n",
    "\n",
    "We will delete those rows that does not contain information about income. We are also going to delete those columns which are not described in the file: Column_description.csv  "
   ]
  },
  {
   "cell_type": "code",
   "execution_count": 6,
   "metadata": {},
   "outputs": [],
   "source": [
    "# Getting rid of those columns with no description available\n",
    "col_diff = list((set(df.columns))^(set(des_df.index)))\n",
    "df.drop(columns=col_diff, inplace=True)"
   ]
  },
  {
   "cell_type": "code",
   "execution_count": 7,
   "metadata": {},
   "outputs": [
    {
     "name": "stdout",
     "output_type": "stream",
     "text": [
      "Number of missing values in the dataset: 0\n"
     ]
    }
   ],
   "source": [
    "# Getting rid of those rows where 'Income' is null\n",
    "df = df.dropna(subset=['Income'])\n",
    "# Verifying that we do not have any other missing value\n",
    "print(f\"Number of missing values in the dataset: {np.sum(df.isnull().sum())}\")\n"
   ]
  },
  {
   "cell_type": "markdown",
   "metadata": {},
   "source": [
    "### Cleaning categorical columns"
   ]
  },
  {
   "cell_type": "code",
   "execution_count": 8,
   "metadata": {},
   "outputs": [
    {
     "data": {
      "text/plain": [
       "Married     857\n",
       "Together    573\n",
       "Single      471\n",
       "Divorced    232\n",
       "Widow        76\n",
       "Alone         3\n",
       "YOLO          2\n",
       "Absurd        2\n",
       "Name: Marital_Status, dtype: int64"
      ]
     },
     "execution_count": 8,
     "metadata": {},
     "output_type": "execute_result"
    }
   ],
   "source": [
    "# Cleaning the categorical columns\n",
    "df['Marital_Status'].value_counts()"
   ]
  },
  {
   "cell_type": "code",
   "execution_count": 9,
   "metadata": {},
   "outputs": [
    {
     "data": {
      "text/plain": [
       "Married     857\n",
       "Together    573\n",
       "Single      474\n",
       "Divorced    232\n",
       "Widow        76\n",
       "Other         4\n",
       "Name: Marital_Status, dtype: int64"
      ]
     },
     "execution_count": 9,
     "metadata": {},
     "output_type": "execute_result"
    }
   ],
   "source": [
    "df = df.replace({'YOLO': 'Other', 'Absurd': 'Other', 'Alone':'Single'})\n",
    "df['Marital_Status'].value_counts()"
   ]
  },
  {
   "cell_type": "code",
   "execution_count": 10,
   "metadata": {},
   "outputs": [
    {
     "data": {
      "text/plain": [
       "Graduation    1116\n",
       "PhD            481\n",
       "Master         365\n",
       "2n Cycle       200\n",
       "Basic           54\n",
       "Name: Education, dtype: int64"
      ]
     },
     "execution_count": 10,
     "metadata": {},
     "output_type": "execute_result"
    }
   ],
   "source": [
    "df['Education'].value_counts()\n",
    "# No need to clean"
   ]
  },
  {
   "cell_type": "markdown",
   "metadata": {},
   "source": [
    "## Data modelling \n",
    "\n",
    "### Campaign analysis"
   ]
  },
  {
   "cell_type": "code",
   "execution_count": 11,
   "metadata": {},
   "outputs": [],
   "source": [
    "camp_col = ['AcceptedCmp1','AcceptedCmp2','AcceptedCmp3','AcceptedCmp4','AcceptedCmp5','Response']"
   ]
  },
  {
   "cell_type": "code",
   "execution_count": 12,
   "metadata": {},
   "outputs": [
    {
     "data": {
      "text/plain": [
       "<matplotlib.axes._subplots.AxesSubplot at 0x10da37dcc88>"
      ]
     },
     "execution_count": 12,
     "metadata": {},
     "output_type": "execute_result"
    },
    {
     "data": {
      "image/png": "[encoded data removed]",
      "text/plain": [
       "<Figure size 432x288 with 1 Axes>"
      ]
     },
     "metadata": {
      "needs_background": "light"
     },
     "output_type": "display_data"
    }
   ],
   "source": [
    "# Histogram of the total numeber of customers per campaign (a single customer can attend multiple campaigns)\n",
    "campaign_impact = df[camp_col]\n",
    "campaign_impact = campaign_impact.rename(columns={'AcceptedCmp1':'Campaign_1','AcceptedCmp2':'Campaign_2','AcceptedCmp3':'Campaign_3','AcceptedCmp4':'Campaign_4','AcceptedCmp5':'Campaign_5','Response':'Campaign_Last'}, errors=\"raise\")\n",
    "cts_per_campaign = campaign_impact.sum()\n",
    "cts_per_campaign.plot.bar(title='Customers consuming in sales campaign', xlabel='Campaign Number', ylabel='# Customers')"
   ]
  },
  {
   "cell_type": "code",
   "execution_count": 13,
   "metadata": {},
   "outputs": [
    {
     "data": {
      "text/plain": [
       "<matplotlib.axes._subplots.AxesSubplot at 0x10da3b6efd0>"
      ]
     },
     "execution_count": 13,
     "metadata": {},
     "output_type": "execute_result"
    },
    {
     "data": {
      "image/png": "[encoded data removed]",
      "text/plain": [
       "<Figure size 432x288 with 1 Axes>"
      ]
     },
     "metadata": {
      "needs_background": "light"
     },
     "output_type": "display_data"
    }
   ],
   "source": [
    "# Number of campaigns at which the customers in the study assisted \n",
    "campaign_nb_per_cst = campaign_impact.sum(axis=1)\n",
    "campaign_nb_per_cst.plot.hist(title='Number of customers assisting to zero, one or more campaigns', color='orange')"
   ]
  },
  {
   "cell_type": "code",
   "execution_count": 14,
   "metadata": {},
   "outputs": [],
   "source": [
    "# We are going to analyze just those customers participating into a single sales campaign\n",
    "camp1 = df.loc[(df['AcceptedCmp1']==1) & (df['AcceptedCmp2']==0) & (df['AcceptedCmp3']==0) & (df['AcceptedCmp4']==0) & (df['AcceptedCmp5']==0) & (df['Response']==0)]\n",
    "camp2 = df.loc[(df['AcceptedCmp1']==0) & (df['AcceptedCmp2']==1) & (df['AcceptedCmp3']==0) & (df['AcceptedCmp4']==0) & (df['AcceptedCmp5']==0) & (df['Response']==0)]\n",
    "camp3 = df.loc[(df['AcceptedCmp1']==0) & (df['AcceptedCmp2']==0) & (df['AcceptedCmp3']==1) & (df['AcceptedCmp4']==0) & (df['AcceptedCmp5']==0) & (df['Response']==0)]\n",
    "camp4 = df.loc[(df['AcceptedCmp1']==0) & (df['AcceptedCmp2']==0) & (df['AcceptedCmp3']==0) & (df['AcceptedCmp4']==1) & (df['AcceptedCmp5']==0) & (df['Response']==0)]\n",
    "camp5 = df.loc[(df['AcceptedCmp1']==0) & (df['AcceptedCmp2']==0) & (df['AcceptedCmp3']==0) & (df['AcceptedCmp4']==0) & (df['AcceptedCmp5']==1) & (df['Response']==0)]\n",
    "camp_last = df.loc[(df['AcceptedCmp1']==0) & (df['AcceptedCmp2']==0) & (df['AcceptedCmp3']==0) & (df['AcceptedCmp4']==0) & (df['AcceptedCmp5']==0) & (df['Response']==1)]"
   ]
  },
  {
   "cell_type": "code",
   "execution_count": 15,
   "metadata": {},
   "outputs": [
    {
     "data": {
      "text/html": [
       "<div>\n",
       "<style scoped>\n",
       "    .dataframe tbody tr th:only-of-type {\n",
       "        vertical-align: middle;\n",
       "    }\n",
       "\n",
       "    .dataframe tbody tr th {\n",
       "        vertical-align: top;\n",
       "    }\n",
       "\n",
       "    .dataframe thead th {\n",
       "        text-align: right;\n",
       "    }\n",
       "</style>\n",
       "<table border=\"1\" class=\"dataframe\">\n",
       "  <thead>\n",
       "    <tr style=\"text-align: right;\">\n",
       "      <th></th>\n",
       "      <th>Year_Birth</th>\n",
       "      <th>Education</th>\n",
       "      <th>Marital_Status</th>\n",
       "      <th>Income</th>\n",
       "      <th>Kidhome</th>\n",
       "      <th>Teenhome</th>\n",
       "      <th>Dt_Customer</th>\n",
       "      <th>Recency</th>\n",
       "      <th>MntWines</th>\n",
       "      <th>MntFruits</th>\n",
       "      <th>MntMeatProducts</th>\n",
       "      <th>MntFishProducts</th>\n",
       "      <th>MntSweetProducts</th>\n",
       "      <th>MntGoldProds</th>\n",
       "      <th>NumDealsPurchases</th>\n",
       "      <th>NumWebPurchases</th>\n",
       "      <th>NumCatalogPurchases</th>\n",
       "      <th>NumStorePurchases</th>\n",
       "      <th>NumWebVisitsMonth</th>\n",
       "      <th>Complain</th>\n",
       "    </tr>\n",
       "  </thead>\n",
       "  <tbody>\n",
       "    <tr>\n",
       "      <th>C1</th>\n",
       "      <td>1963.153846</td>\n",
       "      <td>Graduation</td>\n",
       "      <td>Married</td>\n",
       "      <td>73785.205128</td>\n",
       "      <td>0.153846</td>\n",
       "      <td>0.307692</td>\n",
       "      <td>03-06-2013</td>\n",
       "      <td>59.333333</td>\n",
       "      <td>597.820513</td>\n",
       "      <td>47.641026</td>\n",
       "      <td>390.076923</td>\n",
       "      <td>97.307692</td>\n",
       "      <td>55.948718</td>\n",
       "      <td>79.282051</td>\n",
       "      <td>1.743590</td>\n",
       "      <td>6.051282</td>\n",
       "      <td>5.435897</td>\n",
       "      <td>8.461538</td>\n",
       "      <td>3.743590</td>\n",
       "      <td>0.000000</td>\n",
       "    </tr>\n",
       "    <tr>\n",
       "      <th>C2</th>\n",
       "      <td>NaN</td>\n",
       "      <td>NaN</td>\n",
       "      <td>NaN</td>\n",
       "      <td>NaN</td>\n",
       "      <td>NaN</td>\n",
       "      <td>NaN</td>\n",
       "      <td>NaN</td>\n",
       "      <td>NaN</td>\n",
       "      <td>NaN</td>\n",
       "      <td>NaN</td>\n",
       "      <td>NaN</td>\n",
       "      <td>NaN</td>\n",
       "      <td>NaN</td>\n",
       "      <td>NaN</td>\n",
       "      <td>NaN</td>\n",
       "      <td>NaN</td>\n",
       "      <td>NaN</td>\n",
       "      <td>NaN</td>\n",
       "      <td>NaN</td>\n",
       "      <td>NaN</td>\n",
       "    </tr>\n",
       "    <tr>\n",
       "      <th>C3</th>\n",
       "      <td>1971.391892</td>\n",
       "      <td>Graduation</td>\n",
       "      <td>Married</td>\n",
       "      <td>43931.054054</td>\n",
       "      <td>0.540541</td>\n",
       "      <td>0.581081</td>\n",
       "      <td>02-10-2013</td>\n",
       "      <td>51.986486</td>\n",
       "      <td>271.351351</td>\n",
       "      <td>15.513514</td>\n",
       "      <td>90.932432</td>\n",
       "      <td>26.500000</td>\n",
       "      <td>14.445946</td>\n",
       "      <td>62.621622</td>\n",
       "      <td>2.310811</td>\n",
       "      <td>4.040541</td>\n",
       "      <td>2.756757</td>\n",
       "      <td>4.405405</td>\n",
       "      <td>6.337838</td>\n",
       "      <td>0.000000</td>\n",
       "    </tr>\n",
       "    <tr>\n",
       "      <th>C4</th>\n",
       "      <td>1963.902778</td>\n",
       "      <td>Graduation</td>\n",
       "      <td>Married</td>\n",
       "      <td>60343.263889</td>\n",
       "      <td>0.166667</td>\n",
       "      <td>0.791667</td>\n",
       "      <td>10-11-2012</td>\n",
       "      <td>53.722222</td>\n",
       "      <td>565.958333</td>\n",
       "      <td>20.638889</td>\n",
       "      <td>146.805556</td>\n",
       "      <td>29.027778</td>\n",
       "      <td>20.000000</td>\n",
       "      <td>35.444444</td>\n",
       "      <td>2.833333</td>\n",
       "      <td>5.500000</td>\n",
       "      <td>2.819444</td>\n",
       "      <td>7.916667</td>\n",
       "      <td>5.555556</td>\n",
       "      <td>0.000000</td>\n",
       "    </tr>\n",
       "    <tr>\n",
       "      <th>C5</th>\n",
       "      <td>1963.657895</td>\n",
       "      <td>Graduation</td>\n",
       "      <td>Married</td>\n",
       "      <td>81194.447368</td>\n",
       "      <td>0.000000</td>\n",
       "      <td>0.131579</td>\n",
       "      <td>12-05-2013</td>\n",
       "      <td>56.789474</td>\n",
       "      <td>781.526316</td>\n",
       "      <td>60.526316</td>\n",
       "      <td>494.842105</td>\n",
       "      <td>80.631579</td>\n",
       "      <td>71.763158</td>\n",
       "      <td>79.394737</td>\n",
       "      <td>1.026316</td>\n",
       "      <td>5.236842</td>\n",
       "      <td>6.131579</td>\n",
       "      <td>8.868421</td>\n",
       "      <td>2.289474</td>\n",
       "      <td>0.000000</td>\n",
       "    </tr>\n",
       "    <tr>\n",
       "      <th>Last</th>\n",
       "      <td>1968.554795</td>\n",
       "      <td>Graduation</td>\n",
       "      <td>Single</td>\n",
       "      <td>50747.945205</td>\n",
       "      <td>0.506849</td>\n",
       "      <td>0.369863</td>\n",
       "      <td>09-11-2012</td>\n",
       "      <td>31.972603</td>\n",
       "      <td>303.760274</td>\n",
       "      <td>33.383562</td>\n",
       "      <td>235.102740</td>\n",
       "      <td>42.746575</td>\n",
       "      <td>32.280822</td>\n",
       "      <td>50.561644</td>\n",
       "      <td>2.931507</td>\n",
       "      <td>4.602740</td>\n",
       "      <td>3.068493</td>\n",
       "      <td>5.369863</td>\n",
       "      <td>6.102740</td>\n",
       "      <td>0.006849</td>\n",
       "    </tr>\n",
       "  </tbody>\n",
       "</table>\n",
       "</div>"
      ],
      "text/plain": [
       "       Year_Birth   Education Marital_Status        Income   Kidhome  \\\n",
       "C1    1963.153846  Graduation        Married  73785.205128  0.153846   \n",
       "C2            NaN         NaN            NaN           NaN       NaN   \n",
       "C3    1971.391892  Graduation        Married  43931.054054  0.540541   \n",
       "C4    1963.902778  Graduation        Married  60343.263889  0.166667   \n",
       "C5    1963.657895  Graduation        Married  81194.447368  0.000000   \n",
       "Last  1968.554795  Graduation         Single  50747.945205  0.506849   \n",
       "\n",
       "      Teenhome Dt_Customer    Recency    MntWines  MntFruits  MntMeatProducts  \\\n",
       "C1    0.307692  03-06-2013  59.333333  597.820513  47.641026       390.076923   \n",
       "C2         NaN         NaN        NaN         NaN        NaN              NaN   \n",
       "C3    0.581081  02-10-2013  51.986486  271.351351  15.513514        90.932432   \n",
       "C4    0.791667  10-11-2012  53.722222  565.958333  20.638889       146.805556   \n",
       "C5    0.131579  12-05-2013  56.789474  781.526316  60.526316       494.842105   \n",
       "Last  0.369863  09-11-2012  31.972603  303.760274  33.383562       235.102740   \n",
       "\n",
       "      MntFishProducts  MntSweetProducts  MntGoldProds  NumDealsPurchases  \\\n",
       "C1          97.307692         55.948718     79.282051           1.743590   \n",
       "C2                NaN               NaN           NaN                NaN   \n",
       "C3          26.500000         14.445946     62.621622           2.310811   \n",
       "C4          29.027778         20.000000     35.444444           2.833333   \n",
       "C5          80.631579         71.763158     79.394737           1.026316   \n",
       "Last        42.746575         32.280822     50.561644           2.931507   \n",
       "\n",
       "      NumWebPurchases  NumCatalogPurchases  NumStorePurchases  \\\n",
       "C1           6.051282             5.435897           8.461538   \n",
       "C2                NaN                  NaN                NaN   \n",
       "C3           4.040541             2.756757           4.405405   \n",
       "C4           5.500000             2.819444           7.916667   \n",
       "C5           5.236842             6.131579           8.868421   \n",
       "Last         4.602740             3.068493           5.369863   \n",
       "\n",
       "      NumWebVisitsMonth  Complain  \n",
       "C1             3.743590  0.000000  \n",
       "C2                  NaN       NaN  \n",
       "C3             6.337838  0.000000  \n",
       "C4             5.555556  0.000000  \n",
       "C5             2.289474  0.000000  \n",
       "Last           6.102740  0.006849  "
      ]
     },
     "execution_count": 15,
     "metadata": {},
     "output_type": "execute_result"
    }
   ],
   "source": [
    "# Analyzing customers consuming in a single sales campaign\n",
    "campaigns = [camp1, camp2, camp3, camp4, camp5, camp_last]\n",
    "\n",
    "def consolidate_cst_data(col):\n",
    "    '''\n",
    "    INPUT\n",
    "    col - pandas series to be analyzed \n",
    "    \n",
    "    OUTPUT\n",
    "    returns the Mode of the input data if the dtype is 'object' or the Mean otherwise.\n",
    "    '''\n",
    "    \n",
    "    if col.dtype == 'object':\n",
    "        return col.mode()[0]\n",
    "    else:\n",
    "        return col.mean()\n",
    "    \n",
    "res = []\n",
    "for campaign in campaigns: \n",
    "    res.append(campaign.apply(consolidate_cst_data, axis=0).tolist())\n",
    "\n",
    "campaign_cons = pd.DataFrame(res, columns=df.columns, index=['C1','C2','C3','C4','C5','Last'])\n",
    "campaign_cons\n",
    "\n",
    "# Dropping useless columns\n",
    "campaign_cons.drop(columns=camp_col, inplace=True)\n",
    "campaign_cons.drop(columns=['ID'])"
   ]
  },
  {
   "cell_type": "code",
   "execution_count": 16,
   "metadata": {},
   "outputs": [
    {
     "data": {
      "text/plain": [
       "<matplotlib.axes._subplots.AxesSubplot at 0x10da3bb4978>"
      ]
     },
     "execution_count": 16,
     "metadata": {},
     "output_type": "execute_result"
    },
    {
     "data": {
      "image/png": "[encoded data removed]",
      "text/plain": [
       "<Figure size 432x288 with 1 Axes>"
      ]
     },
     "metadata": {
      "needs_background": "light"
     },
     "output_type": "display_data"
    }
   ],
   "source": [
    "# Income profile per sales campaign \n",
    "campaign_cons['Income'].dropna().plot.line(color='green', xlabel='Campaign', ylabel='Income', title='Income profile per sales campaign')"
   ]
  },
  {
   "cell_type": "code",
   "execution_count": 17,
   "metadata": {},
   "outputs": [
    {
     "data": {
      "text/plain": [
       "<matplotlib.axes._subplots.AxesSubplot at 0x10da3c96ef0>"
      ]
     },
     "execution_count": 17,
     "metadata": {},
     "output_type": "execute_result"
    },
    {
     "data": {
      "image/png": "[encoded data removed]",
      "text/plain": [
       "<Figure size 432x288 with 1 Axes>"
      ]
     },
     "metadata": {
      "needs_background": "light"
     },
     "output_type": "display_data"
    }
   ],
   "source": [
    "# Amount spent per product line in each campaign \n",
    "prod_columns = ['MntWines','MntFruits','MntMeatProducts','MntFishProducts','MntSweetProducts','MntGoldProds']\n",
    "campaign_cons[prod_columns].dropna().plot.line(xlabel='Campaign', ylabel='Spending per product', title=\"Amount spent per product line in each campaign\")    "
   ]
  },
  {
   "cell_type": "markdown",
   "metadata": {},
   "source": [
    "#### Conclusion - Campaign analysis \n",
    "\n",
    "What is the \"average\" customer that we are the most likely to attract in each sales campaign ?\n",
    "\n",
    "*Camp 1 - Camp 5*: They attract those customers with the highest income. The main sales channel are physical stores, while the most consumed products are wine and meat.\n",
    "\n",
    "*Camp 2*: The is not enough information about customers attending only to Campaign 2.\n",
    "\n",
    "*Camp 3 - Camp 4*: Low to medium income customers. Physical stores continue being the preferred channel, and meat and wine the preferred products.\n",
    "\n",
    "*Last campaign*: Low income customers, with the particular characteristic of having the lowest recency (they are continually buying). The sales channels are more evenly distributed.\n"
   ]
  },
  {
   "cell_type": "markdown",
   "metadata": {},
   "source": [
    "### Sales channels "
   ]
  },
  {
   "cell_type": "code",
   "execution_count": 18,
   "metadata": {},
   "outputs": [
    {
     "data": {
      "text/plain": [
       "<matplotlib.axes._subplots.AxesSubplot at 0x10da3d3d710>"
      ]
     },
     "execution_count": 18,
     "metadata": {},
     "output_type": "execute_result"
    },
    {
     "data": {
      "image/png": "[encoded data removed]",
      "text/plain": [
       "<Figure size 432x288 with 1 Axes>"
      ]
     },
     "metadata": {
      "needs_background": "light"
     },
     "output_type": "display_data"
    }
   ],
   "source": [
    "pct_prod = 0.05  # Proportion of the highest customers spending in a product to be analyzed\n",
    "prod_col = ['MntWines','MntFruits','MntMeatProducts','MntFishProducts','MntSweetProducts','MntGoldProds']\n",
    "channel_col = ['NumWebPurchases','NumCatalogPurchases','NumStorePurchases']\n",
    "\n",
    "res = []\n",
    "for col in prod_col:\n",
    "    highest_expenses = df.sort_values(by=[col], ascending=False)[:int(df.shape[0]*pct_prod)]\n",
    "    res.append(highest_expenses.mean()[channel_col].values) \n",
    "pref_channels_per_prod = pd.DataFrame(res, columns=channel_col, index=prod_col)   \n",
    "pref_channels_per_prod.plot.bar(xlabel='Product', ylabel='Sales channel', title='Sales channel preference for customer spending the highest on certain product')\n",
    "    \n"
   ]
  },
  {
   "cell_type": "markdown",
   "metadata": {},
   "source": [
    "#### Conclusion - Sales channel\n",
    "\n",
    "What is the preferred sale channel per product ?\n",
    "\n",
    "According the data (and taking into account the top 5% of customer spending the most on different products), the preferred sales channels are the physical stores. We can also see that for **meat** purchases, there is a special preference for buying through a catalog compared to all other products. \n",
    "\n"
   ]
  },
  {
   "cell_type": "markdown",
   "metadata": {},
   "source": [
    "### Customer profile: Online versus catalog and in-store sales"
   ]
  },
  {
   "cell_type": "code",
   "execution_count": 19,
   "metadata": {},
   "outputs": [
    {
     "data": {
      "text/html": [
       "<div>\n",
       "<style scoped>\n",
       "    .dataframe tbody tr th:only-of-type {\n",
       "        vertical-align: middle;\n",
       "    }\n",
       "\n",
       "    .dataframe tbody tr th {\n",
       "        vertical-align: top;\n",
       "    }\n",
       "\n",
       "    .dataframe thead th {\n",
       "        text-align: right;\n",
       "    }\n",
       "</style>\n",
       "<table border=\"1\" class=\"dataframe\">\n",
       "  <thead>\n",
       "    <tr style=\"text-align: right;\">\n",
       "      <th></th>\n",
       "      <th>Education</th>\n",
       "      <th>Marital_Status</th>\n",
       "      <th>Income</th>\n",
       "      <th>Kidhome</th>\n",
       "      <th>Teenhome</th>\n",
       "      <th>Recency</th>\n",
       "      <th>MntWines</th>\n",
       "      <th>MntFruits</th>\n",
       "      <th>MntMeatProducts</th>\n",
       "      <th>MntFishProducts</th>\n",
       "      <th>MntSweetProducts</th>\n",
       "      <th>MntGoldProds</th>\n",
       "      <th>NumDealsPurchases</th>\n",
       "      <th>NumWebPurchases</th>\n",
       "      <th>NumCatalogPurchases</th>\n",
       "      <th>NumStorePurchases</th>\n",
       "      <th>NumWebVisitsMonth</th>\n",
       "    </tr>\n",
       "  </thead>\n",
       "  <tbody>\n",
       "    <tr>\n",
       "      <th>NumWebPurchases</th>\n",
       "      <td>Graduation</td>\n",
       "      <td>Married</td>\n",
       "      <td>63919.836364</td>\n",
       "      <td>0.163636</td>\n",
       "      <td>0.700000</td>\n",
       "      <td>49.009091</td>\n",
       "      <td>678.427273</td>\n",
       "      <td>43.927273</td>\n",
       "      <td>227.336364</td>\n",
       "      <td>56.345455</td>\n",
       "      <td>45.172727</td>\n",
       "      <td>73.927273</td>\n",
       "      <td>3.290909</td>\n",
       "      <td>10.627273</td>\n",
       "      <td>4.209091</td>\n",
       "      <td>8.300000</td>\n",
       "      <td>6.400000</td>\n",
       "    </tr>\n",
       "    <tr>\n",
       "      <th>NumStorePurchases</th>\n",
       "      <td>Graduation</td>\n",
       "      <td>Married</td>\n",
       "      <td>70097.163636</td>\n",
       "      <td>0.081818</td>\n",
       "      <td>0.500000</td>\n",
       "      <td>43.409091</td>\n",
       "      <td>634.918182</td>\n",
       "      <td>56.727273</td>\n",
       "      <td>281.336364</td>\n",
       "      <td>74.500000</td>\n",
       "      <td>59.700000</td>\n",
       "      <td>75.090909</td>\n",
       "      <td>2.118182</td>\n",
       "      <td>5.781818</td>\n",
       "      <td>5.009091</td>\n",
       "      <td>12.754545</td>\n",
       "      <td>3.845455</td>\n",
       "    </tr>\n",
       "    <tr>\n",
       "      <th>NumCatalogPurchases</th>\n",
       "      <td>Graduation</td>\n",
       "      <td>Married</td>\n",
       "      <td>78136.727273</td>\n",
       "      <td>0.018182</td>\n",
       "      <td>0.272727</td>\n",
       "      <td>50.354545</td>\n",
       "      <td>640.881818</td>\n",
       "      <td>57.818182</td>\n",
       "      <td>475.800000</td>\n",
       "      <td>85.609091</td>\n",
       "      <td>59.581818</td>\n",
       "      <td>82.563636</td>\n",
       "      <td>1.800000</td>\n",
       "      <td>5.236364</td>\n",
       "      <td>10.409091</td>\n",
       "      <td>7.509091</td>\n",
       "      <td>3.027273</td>\n",
       "    </tr>\n",
       "  </tbody>\n",
       "</table>\n",
       "</div>"
      ],
      "text/plain": [
       "                      Education Marital_Status        Income   Kidhome  \\\n",
       "NumWebPurchases      Graduation        Married  63919.836364  0.163636   \n",
       "NumStorePurchases    Graduation        Married  70097.163636  0.081818   \n",
       "NumCatalogPurchases  Graduation        Married  78136.727273  0.018182   \n",
       "\n",
       "                     Teenhome    Recency    MntWines  MntFruits  \\\n",
       "NumWebPurchases      0.700000  49.009091  678.427273  43.927273   \n",
       "NumStorePurchases    0.500000  43.409091  634.918182  56.727273   \n",
       "NumCatalogPurchases  0.272727  50.354545  640.881818  57.818182   \n",
       "\n",
       "                     MntMeatProducts  MntFishProducts  MntSweetProducts  \\\n",
       "NumWebPurchases           227.336364        56.345455         45.172727   \n",
       "NumStorePurchases         281.336364        74.500000         59.700000   \n",
       "NumCatalogPurchases       475.800000        85.609091         59.581818   \n",
       "\n",
       "                     MntGoldProds  NumDealsPurchases  NumWebPurchases  \\\n",
       "NumWebPurchases         73.927273           3.290909        10.627273   \n",
       "NumStorePurchases       75.090909           2.118182         5.781818   \n",
       "NumCatalogPurchases     82.563636           1.800000         5.236364   \n",
       "\n",
       "                     NumCatalogPurchases  NumStorePurchases  NumWebVisitsMonth  \n",
       "NumWebPurchases                 4.209091           8.300000           6.400000  \n",
       "NumStorePurchases               5.009091          12.754545           3.845455  \n",
       "NumCatalogPurchases            10.409091           7.509091           3.027273  "
      ]
     },
     "execution_count": 19,
     "metadata": {},
     "output_type": "execute_result"
    }
   ],
   "source": [
    "pct_channel = 0.05  # Proportion of the highest customers spending through a specific sales channel\n",
    "channel_col = ['NumWebPurchases','NumStorePurchases', 'NumCatalogPurchases']\n",
    "\n",
    "res = []\n",
    "for channel in channel_col: \n",
    "    highest_channels_sales = df.sort_values(by=[channel], ascending=False)[:int(df.shape[0]*pct_channel)]\n",
    "    res.append(highest_channels_sales.apply(consolidate_cst_data, axis=0).tolist())\n",
    "\n",
    "channel_cons = pd.DataFrame(res, columns=df.columns, index=channel_col)\n",
    "\n",
    "# Dropping useless columns\n",
    "channel_cons.drop(columns=camp_col, inplace=True)\n",
    "channel_cons.drop(columns=['ID','Year_Birth','Dt_Customer','Complain'], inplace=True)\n",
    "channel_cons"
   ]
  },
  {
   "cell_type": "markdown",
   "metadata": {},
   "source": [
    "#### Conclusion - Customer profile: Online versus catalog and in-store sales\n",
    "\n",
    "What is the profile of those customers that prefer online or catalog shopping / shopping directly in stores ? \n",
    "\n",
    "*Catalog*: The highest-earning households prefer this sales channel. Customers are not really intereseted in buying discounted products. Customers buying through catalog have less children in average at home than those using other channels. \n",
    "\n",
    "*Physical store*: Customers in a middle range of salary uses this channel the most. \n",
    "\n",
    "*Web*: Customers have the lowest income. Customers tend to visit the only store more than 6 times a week on average, and they have the largest number of kids at home compared to other sales channels.  \n",
    "\n"
   ]
  },
  {
   "cell_type": "markdown",
   "metadata": {},
   "source": [
    "### Customer behaviors predicting the highest customer income"
   ]
  },
  {
   "cell_type": "markdown",
   "metadata": {},
   "source": [
    "#### Creating dummy variables for categorical columns"
   ]
  },
  {
   "cell_type": "code",
   "execution_count": 20,
   "metadata": {},
   "outputs": [],
   "source": [
    "# Creating dummy variables\n",
    "cat_col_copy = cat_col.drop('Dt_Customer')  # Remove useless categorical column\n",
    "cat_df = df\n",
    "\n",
    "for col in cat_col_copy: \n",
    "    cat_df = pd.concat([cat_df.drop([col], axis=1),pd.get_dummies(cat_df[col],prefix=col)], axis=1)"
   ]
  },
  {
   "cell_type": "markdown",
   "metadata": {},
   "source": [
    "#### Fitting a linear model "
   ]
  },
  {
   "cell_type": "code",
   "execution_count": 38,
   "metadata": {},
   "outputs": [
    {
     "name": "stdout",
     "output_type": "stream",
     "text": [
      "The value of R2 is 0.7582248273323684\n"
     ]
    }
   ],
   "source": [
    "y = cat_df['Income']\n",
    "X = cat_df.drop(['Income','ID','Year_Birth','Dt_Customer','Marital_Status_Other'], axis=1)\n",
    "X_train, X_test, y_train, y_test = train_test_split(X, y, test_size=0.2, random_state=10) \n",
    "\n",
    "lm_model = LinearRegression(normalize=True) # Instantiate model\n",
    "lm_model.fit(X_train, y_train) # Fit model\n",
    "\n",
    "y_test_pred = lm_model.predict(X_test)  # Make prediction \n",
    "test_score = r2_score(y_test, y_test_pred)  # Get R2\n",
    "\n",
    "print(f\"The value of R2 is {test_score}\")"
   ]
  },
  {
   "cell_type": "markdown",
   "metadata": {},
   "source": [
    "#### Understanding linear regression coefficients"
   ]
  },
  {
   "cell_type": "code",
   "execution_count": 40,
   "metadata": {},
   "outputs": [
    {
     "data": {
      "text/html": [
       "<div>\n",
       "<style scoped>\n",
       "    .dataframe tbody tr th:only-of-type {\n",
       "        vertical-align: middle;\n",
       "    }\n",
       "\n",
       "    .dataframe tbody tr th {\n",
       "        vertical-align: top;\n",
       "    }\n",
       "\n",
       "    .dataframe thead th {\n",
       "        text-align: right;\n",
       "    }\n",
       "</style>\n",
       "<table border=\"1\" class=\"dataframe\">\n",
       "  <thead>\n",
       "    <tr style=\"text-align: right;\">\n",
       "      <th></th>\n",
       "      <th>Variable</th>\n",
       "      <th>Coefficients</th>\n",
       "      <th>Absolute Coefficients</th>\n",
       "    </tr>\n",
       "  </thead>\n",
       "  <tbody>\n",
       "    <tr>\n",
       "      <th>22</th>\n",
       "      <td>Education_Basic</td>\n",
       "      <td>-12661.951504</td>\n",
       "      <td>12661.951504</td>\n",
       "    </tr>\n",
       "    <tr>\n",
       "      <th>1</th>\n",
       "      <td>Teenhome</td>\n",
       "      <td>4375.901656</td>\n",
       "      <td>4375.901656</td>\n",
       "    </tr>\n",
       "    <tr>\n",
       "      <th>17</th>\n",
       "      <td>AcceptedCmp1</td>\n",
       "      <td>3850.122920</td>\n",
       "      <td>3850.122920</td>\n",
       "    </tr>\n",
       "    <tr>\n",
       "      <th>16</th>\n",
       "      <td>AcceptedCmp5</td>\n",
       "      <td>3539.988051</td>\n",
       "      <td>3539.988051</td>\n",
       "    </tr>\n",
       "    <tr>\n",
       "      <th>18</th>\n",
       "      <td>AcceptedCmp2</td>\n",
       "      <td>3164.653907</td>\n",
       "      <td>3164.653907</td>\n",
       "    </tr>\n",
       "    <tr>\n",
       "      <th>13</th>\n",
       "      <td>NumWebVisitsMonth</td>\n",
       "      <td>-2992.309162</td>\n",
       "      <td>2992.309162</td>\n",
       "    </tr>\n",
       "    <tr>\n",
       "      <th>15</th>\n",
       "      <td>AcceptedCmp4</td>\n",
       "      <td>2170.029845</td>\n",
       "      <td>2170.029845</td>\n",
       "    </tr>\n",
       "    <tr>\n",
       "      <th>14</th>\n",
       "      <td>AcceptedCmp3</td>\n",
       "      <td>-2109.501215</td>\n",
       "      <td>2109.501215</td>\n",
       "    </tr>\n",
       "    <tr>\n",
       "      <th>28</th>\n",
       "      <td>Marital_Status_Single</td>\n",
       "      <td>-2059.945786</td>\n",
       "      <td>2059.945786</td>\n",
       "    </tr>\n",
       "    <tr>\n",
       "      <th>0</th>\n",
       "      <td>Kidhome</td>\n",
       "      <td>1699.511647</td>\n",
       "      <td>1699.511647</td>\n",
       "    </tr>\n",
       "    <tr>\n",
       "      <th>27</th>\n",
       "      <td>Marital_Status_Married</td>\n",
       "      <td>-1652.925211</td>\n",
       "      <td>1652.925211</td>\n",
       "    </tr>\n",
       "    <tr>\n",
       "      <th>30</th>\n",
       "      <td>Marital_Status_Widow</td>\n",
       "      <td>-1378.718532</td>\n",
       "      <td>1378.718532</td>\n",
       "    </tr>\n",
       "    <tr>\n",
       "      <th>25</th>\n",
       "      <td>Education_PhD</td>\n",
       "      <td>1208.678862</td>\n",
       "      <td>1208.678862</td>\n",
       "    </tr>\n",
       "    <tr>\n",
       "      <th>10</th>\n",
       "      <td>NumWebPurchases</td>\n",
       "      <td>953.675668</td>\n",
       "      <td>953.675668</td>\n",
       "    </tr>\n",
       "    <tr>\n",
       "      <th>11</th>\n",
       "      <td>NumCatalogPurchases</td>\n",
       "      <td>838.873141</td>\n",
       "      <td>838.873141</td>\n",
       "    </tr>\n",
       "    <tr>\n",
       "      <th>21</th>\n",
       "      <td>Education_2n Cycle</td>\n",
       "      <td>-757.867394</td>\n",
       "      <td>757.867394</td>\n",
       "    </tr>\n",
       "    <tr>\n",
       "      <th>20</th>\n",
       "      <td>Response</td>\n",
       "      <td>-648.659939</td>\n",
       "      <td>648.659939</td>\n",
       "    </tr>\n",
       "    <tr>\n",
       "      <th>29</th>\n",
       "      <td>Marital_Status_Together</td>\n",
       "      <td>-540.671335</td>\n",
       "      <td>540.671335</td>\n",
       "    </tr>\n",
       "    <tr>\n",
       "      <th>26</th>\n",
       "      <td>Marital_Status_Divorced</td>\n",
       "      <td>-505.729212</td>\n",
       "      <td>505.729212</td>\n",
       "    </tr>\n",
       "    <tr>\n",
       "      <th>12</th>\n",
       "      <td>NumStorePurchases</td>\n",
       "      <td>448.798256</td>\n",
       "      <td>448.798256</td>\n",
       "    </tr>\n",
       "  </tbody>\n",
       "</table>\n",
       "</div>"
      ],
      "text/plain": [
       "                   Variable  Coefficients  Absolute Coefficients\n",
       "22          Education_Basic -12661.951504           12661.951504\n",
       "1                  Teenhome   4375.901656            4375.901656\n",
       "17             AcceptedCmp1   3850.122920            3850.122920\n",
       "16             AcceptedCmp5   3539.988051            3539.988051\n",
       "18             AcceptedCmp2   3164.653907            3164.653907\n",
       "13        NumWebVisitsMonth  -2992.309162            2992.309162\n",
       "15             AcceptedCmp4   2170.029845            2170.029845\n",
       "14             AcceptedCmp3  -2109.501215            2109.501215\n",
       "28    Marital_Status_Single  -2059.945786            2059.945786\n",
       "0                   Kidhome   1699.511647            1699.511647\n",
       "27   Marital_Status_Married  -1652.925211            1652.925211\n",
       "30     Marital_Status_Widow  -1378.718532            1378.718532\n",
       "25            Education_PhD   1208.678862            1208.678862\n",
       "10          NumWebPurchases    953.675668             953.675668\n",
       "11      NumCatalogPurchases    838.873141             838.873141\n",
       "21       Education_2n Cycle   -757.867394             757.867394\n",
       "20                 Response   -648.659939             648.659939\n",
       "29  Marital_Status_Together   -540.671335             540.671335\n",
       "26  Marital_Status_Divorced   -505.729212             505.729212\n",
       "12        NumStorePurchases    448.798256             448.798256"
      ]
     },
     "execution_count": 40,
     "metadata": {},
     "output_type": "execute_result"
    }
   ],
   "source": [
    "coefs_df = pd.DataFrame()\n",
    "coefs_df['Variable'] = X_train.columns\n",
    "coefs_df['Coefficients'] = lm_model.coef_\n",
    "coefs_df['Absolute Coefficients'] = np.abs(lm_model.coef_)\n",
    "coefs_df = coefs_df.sort_values('Absolute Coefficients', ascending=False)\n",
    "\n",
    "coefs_df.head(20)"
   ]
  },
  {
   "cell_type": "markdown",
   "metadata": {},
   "source": [
    "#### Conclusion - Customer characteristics/behaviors predicting annual income\n",
    "\n",
    "What are the consumer behaviors/characteristics with the highest importance when predicting customer's yearly income ? \n",
    "\n",
    "According to the data, a basic level education is the main factor that can predict a low household income. The sales campaigns a customer participates in can also say a lot about the salary (being the campaign 1 and 5 the ones attracting the highest income customers). We can also see that the number of times a customer visit the web store can be a good sign of loyalty but can also represent a customer with a low income. "
   ]
  },
  {
   "cell_type": "code",
   "execution_count": null,
   "metadata": {},
   "outputs": [],
   "source": []
  },
  {
   "cell_type": "code",
   "execution_count": null,
   "metadata": {},
   "outputs": [],
   "source": []
  }
 ],
 "metadata": {
  "kernelspec": {
   "display_name": "Python [conda env:forex]",
   "language": "python",
   "name": "conda-env-forex-py"
  },
  "language_info": {
   "codemirror_mode": {
    "name": "ipython",
    "version": 3
   },
   "file_extension": ".py",
   "mimetype": "text/x-python",
   "name": "python",
   "nbconvert_exporter": "python",
   "pygments_lexer": "ipython3",
   "version": "3.6.10"
  }
 },
 "nbformat": 4,
 "nbformat_minor": 4
}
